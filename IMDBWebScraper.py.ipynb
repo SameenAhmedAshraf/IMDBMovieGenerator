{
 "cells": [
  {
   "cell_type": "code",
   "execution_count": null,
   "metadata": {},
   "outputs": [
    {
     "name": "stdout",
     "output_type": "stream",
     "text": [
      "Dial M for Murder (1954), Rating: 8.1, Starring: Alfred Hitchcock (dir.), Ray Milland, Grace Kelly\n",
      "Do you want another movie (y/[n])? y\n",
      "The Godfather (1972), Rating: 9.1, Starring: Francis Ford Coppola (dir.), Marlon Brando, Al Pacino\n"
     ]
    }
   ],
   "source": [
    "import random\n",
    "import requests\n",
    "from bs4 import BeautifulSoup\n",
    "\n",
    "# crawl IMDB Top 250 and randomly select a movie\n",
    "\n",
    "URL = 'http://www.imdb.com/chart/top'\n",
    "\n",
    "def main():\n",
    "    response = requests.get(URL)\n",
    "\n",
    "    soup = BeautifulSoup(response.text, 'html.parser')\n",
    "    #soup = BeautifulSoup(response.text, 'lxml') # faster\n",
    "\n",
    "    # print(soup.prettify())\n",
    "\n",
    "    movietags = soup.select('td.titleColumn')\n",
    "    inner_movietags = soup.select('td.titleColumn a')\n",
    "    ratingtags = soup.select('td.posterColumn span[name=ir]')\n",
    "\n",
    "    def get_year(movie_tag):\n",
    "        moviesplit = movie_tag.text.split()\n",
    "        year = moviesplit[-1] # last item \n",
    "        return year\n",
    "\n",
    "    years = [get_year(tag) for tag in movietags]\n",
    "    actors_list =[tag['title'] for tag in inner_movietags] # access attribute 'title'\n",
    "    titles = [tag.text for tag in inner_movietags]\n",
    "    ratings = [float(tag['data-value']) for tag in ratingtags] # access attribute 'data-value'\n",
    "\n",
    "    n_movies = len(titles)\n",
    "\n",
    "    while(True):\n",
    "        idx = random.randrange(0, n_movies)\n",
    "        \n",
    "        print(f'{titles[idx]} {years[idx]}, Rating: {ratings[idx]:.1f}, Starring: {actors_list[idx]}')\n",
    "\n",
    "        user_input = input('Do you want another movie (y/[n])? ')\n",
    "        if user_input != 'y':\n",
    "            break\n",
    "    \n",
    "\n",
    "if __name__ == '__main__':\n",
    "    main()"
   ]
  },
  {
   "cell_type": "code",
   "execution_count": null,
   "metadata": {},
   "outputs": [],
   "source": []
  }
 ],
 "metadata": {
  "kernelspec": {
   "display_name": "Python 3",
   "language": "python",
   "name": "python3"
  },
  "language_info": {
   "codemirror_mode": {
    "name": "ipython",
    "version": 3
   },
   "file_extension": ".py",
   "mimetype": "text/x-python",
   "name": "python",
   "nbconvert_exporter": "python",
   "pygments_lexer": "ipython3",
   "version": "3.7.4"
  }
 },
 "nbformat": 4,
 "nbformat_minor": 2
}
